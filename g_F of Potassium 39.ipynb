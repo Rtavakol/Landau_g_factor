{
 "cells": [
  {
   "cell_type": "code",
   "execution_count": 1,
   "metadata": {},
   "outputs": [],
   "source": [
    "import numpy as np"
   ]
  },
  {
   "cell_type": "markdown",
   "metadata": {},
   "source": [
    "## Potassium 39"
   ]
  },
  {
   "cell_type": "code",
   "execution_count": 2,
   "metadata": {},
   "outputs": [],
   "source": [
    "mu_B = 9.274008994 * 10**(-24)#(37)\n",
    "h = 6.62606876*10**(-34) # J·s (52)"
   ]
  },
  {
   "cell_type": "code",
   "execution_count": 3,
   "metadata": {},
   "outputs": [
    {
     "data": {
      "text/plain": [
       "2.0"
      ]
     },
     "execution_count": 3,
     "metadata": {},
     "output_type": "execute_result"
    }
   ],
   "source": [
    "g_J = 2.0022942\n",
    "g_I = -0.00014193489\n",
    "\n",
    "S = 1/2\n",
    "L = 0\n",
    "\n",
    "I = 3/2\n",
    "J = L + S\n",
    "F = J + I\n",
    "F"
   ]
  },
  {
   "cell_type": "code",
   "execution_count": 4,
   "metadata": {},
   "outputs": [],
   "source": [
    "g_F = g_J * (F*(F+1) - I*(I+1) + J*(J+1))/(2*F*(F+1)) + g_I * (F*(F+1) + I*(I+1) - J*(J+1))/(2*F*(F+1))"
   ]
  },
  {
   "cell_type": "code",
   "execution_count": 5,
   "metadata": {},
   "outputs": [
    {
     "data": {
      "text/plain": [
       "0.5004670988325001"
      ]
     },
     "execution_count": 5,
     "metadata": {},
     "output_type": "execute_result"
    }
   ],
   "source": [
    "g_F"
   ]
  },
  {
   "cell_type": "code",
   "execution_count": 7,
   "metadata": {},
   "outputs": [
    {
     "name": "stdout",
     "output_type": "stream",
     "text": [
      "Gyro_ratio: 7.004660748\n"
     ]
    }
   ],
   "source": [
    "gamma_F_divided_2pi =  g_F * mu_B / h \n",
    "print('Gyro_ratio: {:.9f}'.format(gamma_F_divided_2pi*1e-9))"
   ]
  },
  {
   "cell_type": "markdown",
   "metadata": {},
   "source": [
    "## Cesium 133"
   ]
  },
  {
   "cell_type": "code",
   "execution_count": 8,
   "metadata": {},
   "outputs": [
    {
     "data": {
      "text/plain": [
       "4.0"
      ]
     },
     "execution_count": 8,
     "metadata": {},
     "output_type": "execute_result"
    }
   ],
   "source": [
    "g_S = 2.0023193043737#(80)\n",
    "g_L = 0.99999587\n",
    "g_J = 2.00254032#(20)\n",
    "g_I = -0.00039885395#(52)\n",
    "\n",
    "S = 1./2.\n",
    "L = 0.\n",
    "\n",
    "I = 7./2.\n",
    "J = L + S\n",
    "F = J + I\n",
    "F"
   ]
  },
  {
   "cell_type": "code",
   "execution_count": 9,
   "metadata": {},
   "outputs": [],
   "source": [
    "g_F = g_J * (F*(F+1) - I*(I+1) + J*(J+1))/(2*F*(F+1)) + g_I * (F*(F+1) + I*(I+1) - J*(J+1))/(2*F*(F+1))"
   ]
  },
  {
   "cell_type": "code",
   "execution_count": 10,
   "metadata": {},
   "outputs": [
    {
     "data": {
      "text/plain": [
       "0.24996854279375"
      ]
     },
     "execution_count": 10,
     "metadata": {},
     "output_type": "execute_result"
    }
   ],
   "source": [
    "g_F"
   ]
  },
  {
   "cell_type": "code",
   "execution_count": 11,
   "metadata": {},
   "outputs": [
    {
     "name": "stdout",
     "output_type": "stream",
     "text": [
      "Gyro_ratio: 3.498621276\n"
     ]
    }
   ],
   "source": [
    "gamma_F_divided_2pi =  g_F * mu_B / h \n",
    "print('Gyro_ratio: {:.9f}'.format(gamma_F_divided_2pi*1e-9))"
   ]
  }
 ],
 "metadata": {
  "kernelspec": {
   "display_name": "Python 3",
   "language": "python",
   "name": "python3"
  },
  "language_info": {
   "codemirror_mode": {
    "name": "ipython",
    "version": 3
   },
   "file_extension": ".py",
   "mimetype": "text/x-python",
   "name": "python",
   "nbconvert_exporter": "python",
   "pygments_lexer": "ipython3",
   "version": "3.7.6"
  }
 },
 "nbformat": 4,
 "nbformat_minor": 4
}
